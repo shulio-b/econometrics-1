{
 "cells": [
  {
   "cell_type": "code",
   "execution_count": 136,
   "metadata": {},
   "outputs": [
    {
     "name": "stdout",
     "output_type": "stream",
     "text": [
      "                                 OLS Regression Results                                \n",
      "=======================================================================================\n",
      "Dep. Variable:              cap_value   R-squared (uncentered):                   0.515\n",
      "Model:                            OLS   Adj. R-squared (uncentered):              0.479\n",
      "Method:                 Least Squares   F-statistic:                              14.21\n",
      "Date:                Wed, 10 Jul 2024   Prob (F-statistic):                    1.79e-09\n",
      "Time:                        22:10:15   Log-Likelihood:                         -1128.2\n",
      "No. Observations:                  72   AIC:                                      2266.\n",
      "Df Residuals:                      67   BIC:                                      2278.\n",
      "Df Model:                           5                                                  \n",
      "Covariance Type:            nonrobust                                                  \n",
      "=========================================================================================\n",
      "                            coef    std err          t      P>|t|      [0.025      0.975]\n",
      "-----------------------------------------------------------------------------------------\n",
      "is_male               -3.177e+05   4.09e+05     -0.776      0.440   -1.13e+06    4.99e+05\n",
      "client_count          -7346.0227   5871.416     -1.251      0.215   -1.91e+04    4373.372\n",
      "average_ticket            0.1448      0.487      0.297      0.767      -0.827       1.117\n",
      "supernova               1.85e+04   5.43e+05      0.034      0.973   -1.06e+06     1.1e+06\n",
      "done_meetings+1_month  3.966e+04   1.15e+04      3.451      0.001    1.67e+04    6.26e+04\n",
      "==============================================================================\n",
      "Omnibus:                        2.733   Durbin-Watson:                   1.907\n",
      "Prob(Omnibus):                  0.255   Jarque-Bera (JB):                2.379\n",
      "Skew:                           0.056   Prob(JB):                        0.304\n",
      "Kurtosis:                       3.884   Cond. No.                     2.67e+06\n",
      "==============================================================================\n",
      "\n",
      "Notes:\n",
      "[1] R² is computed without centering (uncentered) since the model does not contain a constant.\n",
      "[2] Standard Errors assume that the covariance matrix of the errors is correctly specified.\n",
      "[3] The condition number is large, 2.67e+06. This might indicate that there are\n",
      "strong multicollinearity or other numerical problems.\n"
     ]
    }
   ],
   "source": [
    "import pandas as pd\n",
    "import numpy as np\n",
    "import statsmodels.api as sm\n",
    "\n",
    "# Load the data from .dta file\n",
    "file_path = 'CdV_6_MONTHS.ods'\n",
    "df = pd.read_excel('CdV_6_MONTHS.ods', engine='odf', sheet_name='Sheet1')\n",
    "\n",
    "# New columns:\n",
    "df['average_ticket'] = df['wallet_equity'] / df['client_count']\n",
    "df['supernova'] = df['client_count'].apply(lambda x: 1 if x <= 80 else 0)\n",
    "\n",
    "\n",
    "# Convert 'month_date' to datetime format\n",
    "df['month_date'] = pd.to_datetime(df['month_date'], format='%Y-%m')\n",
    "# Sort the data by 'employee_name' and 'month_date'\n",
    "df = df.sort_values(by=['employee_name', 'month_date'])\n",
    "# Create a new column with delayed values\n",
    "df['done_meetings+1_month'] = df.groupby('employee_name')['done_meetings'].shift(-1)\n",
    "df['done_meetings+2_month'] = df.groupby('employee_name')['done_meetings'].shift(-2)\n",
    "\n",
    "# Define the dependent variable and the independent variables\n",
    "y_subset = ['cap_value']\n",
    "\n",
    "# Subset Option 1:\n",
    "#x_subset = ['done_meetings', 'is_male', 'client_count', 'wallet_equity', 'average_ticket', 'supernova', 'done_meetings+1_month', 'done_meetings+2_month'] \n",
    "\n",
    "# Subset Option 2:\n",
    "#x_subset = ['done_meetings', 'is_male', 'client_count', 'wallet_equity', 'supernova', 'done_meetings+1_month', 'done_meetings+2_month'] \n",
    "\n",
    "# Subset Option 3:\n",
    "#x_subset = ['done_meetings', 'is_male', 'client_count', 'average_ticket', 'supernova', 'done_meetings+1_month'] \n",
    "\n",
    "# Subset Option 4:\n",
    "x_subset = ['is_male', 'client_count', 'average_ticket', 'supernova', 'done_meetings+1_month'] \n",
    "\n",
    "# Create a list of all columns to check for NaNs\n",
    "subset_check = y_subset + x_subset\n",
    "\n",
    "# Drop rows where any of the specified columns have NaN values\n",
    "df_filtered = df.dropna(subset=subset_check)\n",
    "\n",
    "# Redefine y and X with the filtered data\n",
    "y_filtered = df_filtered[y_subset]\n",
    "X_filtered = df_filtered[x_subset]\n",
    "\n",
    "# Add a constant to the predictors for the intercept\n",
    "#X_filtered = sm.add_constant(X_filtered)\n",
    "\n",
    "# Fit the linear regression model\n",
    "model = sm.OLS(y_filtered, X_filtered).fit()\n",
    "\n",
    "# Display a summary of the regression results\n",
    "print(model.summary())"
   ]
  },
  {
   "cell_type": "code",
   "execution_count": 126,
   "metadata": {},
   "outputs": [
    {
     "name": "stdout",
     "output_type": "stream",
     "text": [
      "                            OLS Regression Results                            \n",
      "==============================================================================\n",
      "Dep. Variable:          log_cap_value   R-squared:                       0.269\n",
      "Model:                            OLS   Adj. R-squared:                  0.187\n",
      "Method:                 Least Squares   F-statistic:                     3.257\n",
      "Date:                Wed, 10 Jul 2024   Prob (F-statistic):            0.00844\n",
      "Time:                        22:07:43   Log-Likelihood:                -130.19\n",
      "No. Observations:                  60   AIC:                             274.4\n",
      "Df Residuals:                      53   BIC:                             289.0\n",
      "Df Model:                           6                                         \n",
      "Covariance Type:            nonrobust                                         \n",
      "=============================================================================================\n",
      "                                coef    std err          t      P>|t|      [0.025      0.975]\n",
      "---------------------------------------------------------------------------------------------\n",
      "const                        -5.6749     10.899     -0.521      0.605     -27.535      16.186\n",
      "log_done_meetings            -0.1855      0.940     -0.197      0.844      -2.071       1.700\n",
      "log_is_male                   0.0653      0.049      1.338      0.187      -0.033       0.163\n",
      "log_client_count              2.3895      1.765      1.354      0.182      -1.151       5.930\n",
      "log_average_ticket           -0.1323      0.706     -0.188      0.852      -1.547       1.283\n",
      "log_supernova                 0.0382      0.077      0.495      0.623      -0.116       0.193\n",
      "log_done_meetings+1_month     2.7427      1.079      2.542      0.014       0.578       4.907\n",
      "==============================================================================\n",
      "Omnibus:                       18.471   Durbin-Watson:                   2.078\n",
      "Prob(Omnibus):                  0.000   Jarque-Bera (JB):               22.942\n",
      "Skew:                          -1.283   Prob(JB):                     1.04e-05\n",
      "Kurtosis:                       4.610   Cond. No.                         624.\n",
      "==============================================================================\n",
      "\n",
      "Notes:\n",
      "[1] Standard Errors assume that the covariance matrix of the errors is correctly specified.\n"
     ]
    },
    {
     "name": "stderr",
     "output_type": "stream",
     "text": [
      "/home/julio/Documents/econometrics-1/.venv/lib/python3.10/site-packages/pandas/core/arraylike.py:399: RuntimeWarning: invalid value encountered in log\n",
      "  result = getattr(ufunc, method)(*inputs, **kwargs)\n"
     ]
    }
   ],
   "source": [
    "# Create log-transformed columns for all variables with a small constant added\n",
    "small_constant = 1e-6\n",
    "log_vars = y_subset + x_subset\n",
    "for var in log_vars:\n",
    "    df[f'log_{var}'] = np.log(df[var] + small_constant)\n",
    "\n",
    "# Define the log-transformed dependent variable and the independent variables\n",
    "log_y_subset = [f'log_{var}' for var in y_subset]\n",
    "log_x_subset = [f'log_{var}' for var in x_subset]\n",
    "\n",
    "# Create a list of all columns to check for NaNs\n",
    "log_subset_check = log_y_subset + log_x_subset\n",
    "\n",
    "# Drop rows where any of the specified columns have NaN values\n",
    "df_filtered = df.dropna(subset=log_subset_check)\n",
    "\n",
    "# Redefine y and X with the log-transformed columns\n",
    "y_filtered = df_filtered[log_y_subset]\n",
    "X_filtered = df_filtered[log_x_subset]\n",
    "\n",
    "# Add a constant to the predictors for the intercept\n",
    "X_filtered = sm.add_constant(X_filtered)\n",
    "\n",
    "# Fit the linear regression model\n",
    "model = sm.OLS(y_filtered, X_filtered).fit()\n",
    "\n",
    "# Display a summary of the regression results\n",
    "print(model.summary())"
   ]
  },
  {
   "cell_type": "code",
   "execution_count": 125,
   "metadata": {},
   "outputs": [
    {
     "data": {
      "text/plain": [
       "Series([], dtype: float64)"
      ]
     },
     "execution_count": 125,
     "metadata": {},
     "output_type": "execute_result"
    }
   ],
   "source": [
    "import numpy as np\n",
    "\n",
    "#Print X subset correlation\n",
    "correlation_matrix = df[x_subset].corr()\n",
    "\n",
    "# Create a mask to select the upper triangle of the correlation matrix\n",
    "mask = (correlation_matrix.where(~np.tril(np.ones(correlation_matrix.shape)).astype(bool))).stack()\n",
    "\n",
    "# Filter correlations greater than 0.80\n",
    "high_correlations = mask[mask > 0.80]\n",
    "\n",
    "high_correlations"
   ]
  },
  {
   "cell_type": "code",
   "execution_count": 115,
   "metadata": {},
   "outputs": [
    {
     "data": {
      "image/png": "[encoded data removed]",
      "text/plain": [
       "<Figure size 640x480 with 1 Axes>"
      ]
     },
     "metadata": {},
     "output_type": "display_data"
    }
   ],
   "source": [
    "import statsmodels.api as sm\n",
    "import matplotlib.pyplot as plt\n",
    "\n",
    "# Assuming you have a fitted model named `model`\n",
    "residuals = model.resid\n",
    "fitted = model.fittedvalues\n",
    "\n",
    "plt.scatter(fitted, residuals)\n",
    "plt.xlabel('Fitted Values')\n",
    "plt.ylabel('Residuals')\n",
    "plt.title('Residuals vs Fitted Values')\n",
    "plt.axhline(0, color='red', linestyle='--')\n",
    "plt.show()\n"
   ]
  },
  {
   "cell_type": "code",
   "execution_count": 111,
   "metadata": {},
   "outputs": [
    {
     "name": "stdout",
     "output_type": "stream",
     "text": [
      "{'Lagrange multiplier statistic': 14.765291184109843, 'p-value': 0.005213613861263528, 'f-value': 4.4882073765044765, 'f p-value': 0.0032854295827516398}\n"
     ]
    }
   ],
   "source": [
    "from statsmodels.stats.diagnostic import het_breuschpagan\n",
    "from statsmodels.stats.diagnostic import het_white\n",
    "\n",
    "# Perform the Breusch-Pagan test\n",
    "bp_test = het_breuschpagan(model.resid, model.model.exog)\n",
    "\n",
    "# bp_test returns (Lagrange multiplier statistic, p-value, f-value, f p-value)\n",
    "labels = ['Lagrange multiplier statistic', 'p-value', 'f-value', 'f p-value']\n",
    "bp_results = dict(zip(labels, bp_test))\n",
    "\n",
    "print(bp_results)"
   ]
  },
  {
   "cell_type": "code",
   "execution_count": 5,
   "metadata": {},
   "outputs": [
    {
     "data": {
      "image/png": "[encoded data removed]",
      "text/plain": [
       "<Figure size 640x480 with 1 Axes>"
      ]
     },
     "metadata": {},
     "output_type": "display_data"
    }
   ],
   "source": [
    "import pandas as pd\n",
    "import matplotlib.pyplot as plt\n",
    "\n",
    "# Load the data from .dta file\n",
    "file_path = 'CdV_6_MONTHS.ods'\n",
    "df = pd.read_excel('CdV_6_MONTHS.ods', engine='odf', sheet_name='Sheet1')\n",
    "\n",
    "# Assuming the ODS file has columns named 'x' and 'y'\n",
    "# Create a scatter plot\n",
    "plt.scatter(df['done_meetings'], df['cap_value'])\n",
    "\n",
    "# Add title and labels\n",
    "plt.title('Captable per meetings')\n",
    "plt.xlabel('Done Meetings')\n",
    "plt.ylabel('Captable Value')\n",
    "\n",
    "# Show plot\n",
    "plt.show()\n"
   ]
  },
  {
   "cell_type": "code",
   "execution_count": 82,
   "metadata": {},
   "outputs": [
    {
     "name": "stdout",
     "output_type": "stream",
     "text": [
      "                                 OLS Regression Results                                \n",
      "=======================================================================================\n",
      "Dep. Variable:              cap_value   R-squared (uncentered):                   0.416\n",
      "Model:                            OLS   Adj. R-squared (uncentered):              0.335\n",
      "Method:                 Least Squares   F-statistic:                              1.468\n",
      "Date:                Wed, 10 Jul 2024   Prob (F-statistic):                       0.220\n",
      "Time:                        21:39:46   Log-Likelihood:                         -771.36\n",
      "No. Observations:                  49   AIC:                                      1555.\n",
      "Df Residuals:                      43   BIC:                                      1566.\n",
      "Df Model:                           6                                                  \n",
      "Covariance Type:                  HC3                                                  \n",
      "=========================================================================================\n",
      "                            coef    std err          z      P>|z|      [0.025      0.975]\n",
      "-----------------------------------------------------------------------------------------\n",
      "done_meetings          3179.7896   1.36e+04      0.234      0.815   -2.35e+04    2.99e+04\n",
      "is_male                 4.29e+04   5.62e+05      0.076      0.939   -1.06e+06    1.14e+06\n",
      "client_count           1.837e+04    1.2e+04      1.531      0.126   -5139.245    4.19e+04\n",
      "wallet_equity             0.0047      0.008      0.580      0.562      -0.011       0.021\n",
      "under_80_clients       8.919e+05   1.12e+06      0.797      0.425    -1.3e+06    3.08e+06\n",
      "done_meetings+2_month -2.764e+04   2.55e+04     -1.086      0.278   -7.75e+04    2.23e+04\n",
      "==============================================================================\n",
      "Omnibus:                       12.945   Durbin-Watson:                   2.125\n",
      "Prob(Omnibus):                  0.002   Jarque-Bera (JB):               14.013\n",
      "Skew:                           1.044   Prob(JB):                     0.000906\n",
      "Kurtosis:                       4.584   Cond. No.                     3.76e+08\n",
      "==============================================================================\n",
      "\n",
      "Notes:\n",
      "[1] R² is computed without centering (uncentered) since the model does not contain a constant.\n",
      "[2] Standard Errors are heteroscedasticity robust (HC3)\n",
      "[3] The condition number is large, 3.76e+08. This might indicate that there are\n",
      "strong multicollinearity or other numerical problems.\n"
     ]
    },
    {
     "name": "stderr",
     "output_type": "stream",
     "text": [
      "/home/julio/Documents/econometrics-1/.venv/lib/python3.10/site-packages/statsmodels/base/model.py:1896: ValueWarning: covariance of constraints does not have full rank. The number of constraints is 6, but rank is 5\n",
      "  warnings.warn('covariance of constraints does not have full '\n"
     ]
    }
   ],
   "source": [
    "import statsmodels.api as sm\n",
    "\n",
    "# Assuming y_filtered and X_filtered are already defined as in the previous example\n",
    "model_robust = sm.OLS(y_filtered, X_filtered).fit(cov_type='HC3')\n",
    "print(model_robust.summary())\n"
   ]
  },
  {
   "cell_type": "code",
   "execution_count": 59,
   "metadata": {},
   "outputs": [
    {
     "name": "stdout",
     "output_type": "stream",
     "text": [
      "                            WLS Regression Results                            \n",
      "==============================================================================\n",
      "Dep. Variable:              cap_value   R-squared:                       0.870\n",
      "Model:                            WLS   Adj. R-squared:                  0.863\n",
      "Method:                 Least Squares   F-statistic:                     120.6\n",
      "Date:                Wed, 10 Jul 2024   Prob (F-statistic):           2.44e-38\n",
      "Time:                        21:05:35   Log-Likelihood:                -1425.1\n",
      "No. Observations:                  96   AIC:                             2862.\n",
      "Df Residuals:                      90   BIC:                             2878.\n",
      "Df Model:                           5                                         \n",
      "Covariance Type:            nonrobust                                         \n",
      "====================================================================================\n",
      "                       coef    std err          t      P>|t|      [0.025      0.975]\n",
      "------------------------------------------------------------------------------------\n",
      "const            -4.779e+05   1.54e+05     -3.111      0.003   -7.83e+05   -1.73e+05\n",
      "done_meetings     1.716e+04    879.297     19.514      0.000    1.54e+04    1.89e+04\n",
      "is_male          -2.443e+05   3.21e+04     -7.604      0.000   -3.08e+05    -1.8e+05\n",
      "client_count      5993.3178   1501.425      3.992      0.000    3010.474    8976.161\n",
      "average_ticket       0.3680      0.042      8.740      0.000       0.284       0.452\n",
      "under_80_clients -1.005e+05   1.86e+05     -0.540      0.591   -4.71e+05     2.7e+05\n",
      "==============================================================================\n",
      "Omnibus:                     1154.307   Durbin-Watson:                   0.682\n",
      "Prob(Omnibus):                  0.000   Jarque-Bera (JB):               13.096\n",
      "Skew:                           0.152   Prob(JB):                      0.00143\n",
      "Kurtosis:                       1.216   Cond. No.                     1.38e+07\n",
      "==============================================================================\n",
      "\n",
      "Notes:\n",
      "[1] Standard Errors assume that the covariance matrix of the errors is correctly specified.\n",
      "[2] The smallest eigenvalue is 2.35e-11. This might indicate that there are\n",
      "strong multicollinearity problems or that the design matrix is singular.\n"
     ]
    }
   ],
   "source": [
    "from statsmodels.regression.linear_model import WLS\n",
    "\n",
    "# Calculate weights as the inverse of the variance of residuals\n",
    "weights = 1 / (model.resid ** 2)\n",
    "\n",
    "# Fit the model using Weighted Least Squares\n",
    "model_wls = WLS(y_filtered, X_filtered, weights=weights).fit()\n",
    "print(model_wls.summary())\n"
   ]
  }
 ],
 "metadata": {
  "kernelspec": {
   "display_name": ".venv",
   "language": "python",
   "name": "python3"
  },
  "language_info": {
   "codemirror_mode": {
    "name": "ipython",
    "version": 3
   },
   "file_extension": ".py",
   "mimetype": "text/x-python",
   "name": "python",
   "nbconvert_exporter": "python",
   "pygments_lexer": "ipython3",
   "version": "3.10.12"
  }
 },
 "nbformat": 4,
 "nbformat_minor": 2
}
