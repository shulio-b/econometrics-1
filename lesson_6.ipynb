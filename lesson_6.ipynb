{
 "cells": [
  {
   "cell_type": "code",
   "execution_count": 23,
   "metadata": {},
   "outputs": [
    {
     "name": "stdout",
     "output_type": "stream",
     "text": [
      "                                 OLS Regression Results                                \n",
      "=======================================================================================\n",
      "Dep. Variable:             spreadrlpf   R-squared (uncentered):                   0.908\n",
      "Model:                            OLS   Adj. R-squared (uncentered):              0.907\n",
      "Method:                 Least Squares   F-statistic:                              1521.\n",
      "Date:                Wed, 24 Apr 2024   Prob (F-statistic):                    1.04e-81\n",
      "Time:                        21:27:43   Log-Likelihood:                         -434.05\n",
      "No. Observations:                 155   AIC:                                      870.1\n",
      "Df Residuals:                     154   BIC:                                      873.1\n",
      "Df Model:                           1                                                  \n",
      "Covariance Type:            nonrobust                                                  \n",
      "================================================================================\n",
      "                   coef    std err          t      P>|t|      [0.025      0.975]\n",
      "--------------------------------------------------------------------------------\n",
      "prazomediopf     0.1987      0.005     39.001      0.000       0.189       0.209\n",
      "==============================================================================\n",
      "Omnibus:                       11.339   Durbin-Watson:                   0.034\n",
      "Prob(Omnibus):                  0.003   Jarque-Bera (JB):                4.425\n",
      "Skew:                          -0.041   Prob(JB):                        0.109\n",
      "Kurtosis:                       2.176   Cond. No.                         1.00\n",
      "==============================================================================\n",
      "\n",
      "Notes:\n",
      "[1] R² is computed without centering (uncentered) since the model does not contain a constant.\n",
      "[2] Standard Errors assume that the covariance matrix of the errors is correctly specified.\n"
     ]
    }
   ],
   "source": [
    "import pandas as pd\n",
    "import statsmodels.api as sm\n",
    "\n",
    "# Load the data from .dta file\n",
    "df = pd.read_stata('credito.dta')\n",
    "\n",
    "# Define the dependent variable and the independent variables\n",
    "y_subset = ['spreadrlpf']\n",
    "x_subset = ['prazomediopf']\n",
    "\n",
    "# Create a list of all columns to check for NaNs\n",
    "subset_check = y_subset + x_subset\n",
    "\n",
    "# Drop rows where any of the specified columns have NaN values\n",
    "df_filtered = df.dropna(subset=subset_check)\n",
    "\n",
    "# Redefine y and X with the filtered data\n",
    "y_filtered = df_filtered[y_subset]\n",
    "X_filtered = df_filtered[x_subset]\n",
    "\n",
    "# Add a constant to the predictors for the intercept\n",
    "#X_filtered = sm.add_constant(X_filtered)\n",
    "\n",
    "# Fit the linear regression model\n",
    "model = sm.OLS(y_filtered, X_filtered).fit()\n",
    "\n",
    "# Display a summary of the regression results\n",
    "print(model.summary())\n"
   ]
  }
 ],
 "metadata": {
  "kernelspec": {
   "display_name": ".venv",
   "language": "python",
   "name": "python3"
  },
  "language_info": {
   "codemirror_mode": {
    "name": "ipython",
    "version": 3
   },
   "file_extension": ".py",
   "mimetype": "text/x-python",
   "name": "python",
   "nbconvert_exporter": "python",
   "pygments_lexer": "ipython3",
   "version": "3.10.12"
  }
 },
 "nbformat": 4,
 "nbformat_minor": 2
}
