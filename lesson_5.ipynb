{
 "cells": [
  {
   "cell_type": "code",
   "execution_count": null,
   "metadata": {},
   "outputs": [],
   "source": [
    "import pandas as pd\n",
    "import statsmodels.api as sm\n",
    "\n",
    "# Carregar os dados do arquivo .dta\n",
    "df = pd.read_stata('lesson_3.dta')\n",
    "\n",
    "# Definir a variável dependente e as variáveis independentes\n",
    "y = df['igpm']\n",
    "X = df[['cambio']]\n",
    "\n",
    "# Adicionar uma constante aos preditores para o intercepto\n",
    "X = sm.add_constant(X)\n",
    "\n",
    "# Ajustar o modelo de regressão linear\n",
    "model = sm.OLS(y, X).fit()\n",
    "\n",
    "# Exibir um resumo dos resultados da regressão\n",
    "print(model.summary())\n",
    "\n",
    "#Command on STATA 18:\n",
    "# reg igpm cambio"
   ]
  },
  {
   "cell_type": "markdown",
   "metadata": {},
   "source": []
  }
 ],
 "metadata": {
  "language_info": {
   "name": "python"
  }
 },
 "nbformat": 4,
 "nbformat_minor": 2
}
