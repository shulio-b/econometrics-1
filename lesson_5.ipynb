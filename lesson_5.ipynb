{
 "cells": [
  {
   "cell_type": "code",
   "execution_count": 5,
   "metadata": {},
   "outputs": [
    {
     "name": "stdout",
     "output_type": "stream",
     "text": [
      "                            OLS Regression Results                            \n",
      "==============================================================================\n",
      "Dep. Variable:          industria_log   R-squared:                       0.281\n",
      "Model:                            OLS   Adj. R-squared:                  0.276\n",
      "Method:                 Least Squares   F-statistic:                     54.81\n",
      "Date:                Wed, 10 Apr 2024   Prob (F-statistic):           1.13e-11\n",
      "Time:                        20:46:11   Log-Likelihood:                 143.73\n",
      "No. Observations:                 142   AIC:                            -283.5\n",
      "Df Residuals:                     140   BIC:                            -277.6\n",
      "Df Model:                           1                                         \n",
      "Covariance Type:            nonrobust                                         \n",
      "==================================================================================\n",
      "                     coef    std err          t      P>|t|      [0.025      0.975]\n",
      "----------------------------------------------------------------------------------\n",
      "const             13.5417      1.201     11.273      0.000      11.167      15.917\n",
      "rendimento_log    -1.1119      0.150     -7.403      0.000      -1.409      -0.815\n",
      "==============================================================================\n",
      "Omnibus:                       22.227   Durbin-Watson:                   0.493\n",
      "Prob(Omnibus):                  0.000   Jarque-Bera (JB):               49.329\n",
      "Skew:                          -0.639   Prob(JB):                     1.94e-11\n",
      "Kurtosis:                       5.589   Cond. No.                     1.31e+03\n",
      "==============================================================================\n",
      "\n",
      "Notes:\n",
      "[1] Standard Errors assume that the covariance matrix of the errors is correctly specified.\n",
      "[2] The condition number is large, 1.31e+03. This might indicate that there are\n",
      "strong multicollinearity or other numerical problems.\n"
     ]
    }
   ],
   "source": [
    "import pandas as pd\n",
    "import statsmodels.api as sm\n",
    "import numpy as np\n",
    "\n",
    "# Carregar os dados do arquivo .dta\n",
    "df = pd.read_stata('lesson_3.dta')\n",
    "\n",
    "# Adicionar a nova coluna com o logaritmo natural\n",
    "df['industria_log'] = np.log(df['industria'])\n",
    "df['rendimento_log'] = np.log(df['rendimento'])\n",
    "\n",
    "# Definir a variável dependente e as variáveis independentes\n",
    "y = df['industria_log']\n",
    "X = df[['rendimento_log']]\n",
    "\n",
    "# Adicionar uma constante aos preditores para o intercepto\n",
    "X = sm.add_constant(X)\n",
    "\n",
    "# Ajustar o modelo de regressão linear\n",
    "model = sm.OLS(y, X).fit()\n",
    "\n",
    "# Exibir um resumo dos resultados da regressão\n",
    "print(model.summary())"
   ]
  },
  {
   "cell_type": "code",
   "execution_count": 8,
   "metadata": {},
   "outputs": [
    {
     "name": "stdout",
     "output_type": "stream",
     "text": [
      "                            OLS Regression Results                            \n",
      "==============================================================================\n",
      "Dep. Variable:          industria_log   R-squared:                       0.009\n",
      "Model:                            OLS   Adj. R-squared:                  0.002\n",
      "Method:                 Least Squares   F-statistic:                     1.241\n",
      "Date:                Wed, 10 Apr 2024   Prob (F-statistic):              0.267\n",
      "Time:                        20:52:26   Log-Likelihood:                 120.90\n",
      "No. Observations:                 142   AIC:                            -237.8\n",
      "Df Residuals:                     140   BIC:                            -231.9\n",
      "Df Model:                           1                                         \n",
      "Covariance Type:            nonrobust                                         \n",
      "==============================================================================\n",
      "                 coef    std err          t      P>|t|      [0.025      0.975]\n",
      "------------------------------------------------------------------------------\n",
      "const          4.6249      0.023    200.287      0.000       4.579       4.671\n",
      "selic          0.0328      0.029      1.114      0.267      -0.025       0.091\n",
      "==============================================================================\n",
      "Omnibus:                        2.442   Durbin-Watson:                   0.435\n",
      "Prob(Omnibus):                  0.295   Jarque-Bera (JB):                2.009\n",
      "Skew:                          -0.181   Prob(JB):                        0.366\n",
      "Kurtosis:                       3.457   Cond. No.                         5.26\n",
      "==============================================================================\n",
      "\n",
      "Notes:\n",
      "[1] Standard Errors assume that the covariance matrix of the errors is correctly specified.\n"
     ]
    }
   ],
   "source": [
    "import pandas as pd\n",
    "import statsmodels.api as sm\n",
    "import numpy as np\n",
    "\n",
    "# Carregar os dados do arquivo .dta\n",
    "df = pd.read_stata('lesson_3.dta')\n",
    "\n",
    "# Adicionar a nova coluna com o logaritmo natural\n",
    "df['industria_log'] = np.log(df['industria'])\n",
    "df['rendimento_log'] = np.log(df['rendimento'])\n",
    "\n",
    "# Definir a variável dependente e as variáveis independentes\n",
    "y = df['industria_log']\n",
    "X = df[['selic']]\n",
    "\n",
    "# Adicionar uma constante aos preditores para o intercepto\n",
    "X = sm.add_constant(X)\n",
    "\n",
    "# Ajustar o modelo de regressão linear\n",
    "model = sm.OLS(y, X).fit()\n",
    "\n",
    "# Exibir um resumo dos resultados da regressão\n",
    "print(model.summary())"
   ]
  },
  {
   "cell_type": "markdown",
   "metadata": {},
   "source": [
    "Calculando funções REG e LOG no STATA 18"
   ]
  }
 ],
 "metadata": {
  "kernelspec": {
   "display_name": ".venv",
   "language": "python",
   "name": "python3"
  },
  "language_info": {
   "codemirror_mode": {
    "name": "ipython",
    "version": 3
   },
   "file_extension": ".py",
   "mimetype": "text/x-python",
   "name": "python",
   "nbconvert_exporter": "python",
   "pygments_lexer": "ipython3",
   "version": "3.10.12"
  }
 },
 "nbformat": 4,
 "nbformat_minor": 2
}
