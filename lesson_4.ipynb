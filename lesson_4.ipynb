{
 "cells": [
  {
   "cell_type": "code",
   "execution_count": 4,
   "metadata": {},
   "outputs": [
    {
     "name": "stdout",
     "output_type": "stream",
     "text": [
      "                            OLS Regression Results                            \n",
      "==============================================================================\n",
      "Dep. Variable:                  selic   R-squared:                       0.222\n",
      "Model:                            OLS   Adj. R-squared:                  0.205\n",
      "Method:                 Least Squares   F-statistic:                     13.10\n",
      "Date:                Wed, 27 Mar 2024   Prob (F-statistic):           1.41e-07\n",
      "Time:                        21:19:48   Log-Likelihood:                -11.067\n",
      "No. Observations:                 142   AIC:                             30.13\n",
      "Df Residuals:                     138   BIC:                             41.96\n",
      "Df Model:                           3                                         \n",
      "Covariance Type:            nonrobust                                         \n",
      "==============================================================================\n",
      "                 coef    std err          t      P>|t|      [0.025      0.975]\n",
      "------------------------------------------------------------------------------\n",
      "const          0.9738      0.312      3.119      0.002       0.356       1.591\n",
      "cambio        -0.0333      0.023     -1.466      0.145      -0.078       0.012\n",
      "industria     -0.0004      0.002     -0.172      0.864      -0.005       0.004\n",
      "igpm          -0.1285      0.023     -5.517      0.000      -0.175      -0.082\n",
      "==============================================================================\n",
      "Omnibus:                       28.005   Durbin-Watson:                   0.284\n",
      "Prob(Omnibus):                  0.000   Jarque-Bera (JB):                7.394\n",
      "Skew:                           0.199   Prob(JB):                       0.0248\n",
      "Kurtosis:                       1.955   Cond. No.                     1.48e+03\n",
      "==============================================================================\n",
      "\n",
      "Notes:\n",
      "[1] Standard Errors assume that the covariance matrix of the errors is correctly specified.\n",
      "[2] The condition number is large, 1.48e+03. This might indicate that there are\n",
      "strong multicollinearity or other numerical problems.\n"
     ]
    }
   ],
   "source": [
    "import pandas as pd\n",
    "import statsmodels.api as sm\n",
    "\n",
    "# Carregar os dados do arquivo .dta\n",
    "df = pd.read_stata('lesson_3.dta')\n",
    "\n",
    "# Definir a variável dependente e as variáveis independentes\n",
    "y = df['selic']\n",
    "X = df[['cambio', 'industria', 'igpm']]\n",
    "\n",
    "# Adicionar uma constante aos preditores para o intercepto\n",
    "X = sm.add_constant(X)\n",
    "\n",
    "# Ajustar o modelo de regressão linear\n",
    "model = sm.OLS(y, X).fit()\n",
    "\n",
    "# Exibir um resumo dos resultados da regressão\n",
    "print(model.summary())\n",
    "\n",
    "#Command on STATA 18:\n",
    "# reg selic cambio industria igpm"
   ]
  },
  {
   "cell_type": "code",
   "execution_count": 5,
   "metadata": {},
   "outputs": [
    {
     "name": "stdout",
     "output_type": "stream",
     "text": [
      "                                 OLS Regression Results                                \n",
      "=======================================================================================\n",
      "Dep. Variable:                  selic   R-squared (uncentered):                   0.881\n",
      "Model:                            OLS   Adj. R-squared (uncentered):              0.878\n",
      "Method:                 Least Squares   F-statistic:                              342.8\n",
      "Date:                Wed, 27 Mar 2024   Prob (F-statistic):                    5.16e-64\n",
      "Time:                        21:20:35   Log-Likelihood:                         -15.904\n",
      "No. Observations:                 142   AIC:                                      37.81\n",
      "Df Residuals:                     139   BIC:                                      46.68\n",
      "Df Model:                           3                                                  \n",
      "Covariance Type:            nonrobust                                                  \n",
      "==============================================================================\n",
      "                 coef    std err          t      P>|t|      [0.025      0.975]\n",
      "------------------------------------------------------------------------------\n",
      "cambio         0.0172      0.016      1.043      0.299      -0.015       0.050\n",
      "industria      0.0070      0.001     11.814      0.000       0.006       0.008\n",
      "igpm          -0.1337      0.024     -5.582      0.000      -0.181      -0.086\n",
      "==============================================================================\n",
      "Omnibus:                       19.107   Durbin-Watson:                   0.247\n",
      "Prob(Omnibus):                  0.000   Jarque-Bera (JB):                7.104\n",
      "Skew:                           0.279   Prob(JB):                       0.0287\n",
      "Kurtosis:                       2.058   Cond. No.                         113.\n",
      "==============================================================================\n",
      "\n",
      "Notes:\n",
      "[1] R² is computed without centering (uncentered) since the model does not contain a constant.\n",
      "[2] Standard Errors assume that the covariance matrix of the errors is correctly specified.\n"
     ]
    }
   ],
   "source": [
    "import pandas as pd\n",
    "import statsmodels.api as sm\n",
    "\n",
    "# Carregar os dados do arquivo .dta\n",
    "df = pd.read_stata('lesson_3.dta')\n",
    "\n",
    "# Definir a variável dependente e as variáveis independentes\n",
    "y = df['selic']\n",
    "X = df[['cambio', 'industria', 'igpm']]\n",
    "\n",
    "# Ajustar o modelo de regressão linear\n",
    "model = sm.OLS(y, X).fit()\n",
    "\n",
    "# Exibir um resumo dos resultados da regressão\n",
    "print(model.summary())\n",
    "\n",
    "#Command on STATA 18:\n",
    "# reg selic cambio industria igpm, noc"
   ]
  }
 ],
 "metadata": {
  "kernelspec": {
   "display_name": ".venv",
   "language": "python",
   "name": "python3"
  },
  "language_info": {
   "codemirror_mode": {
    "name": "ipython",
    "version": 3
   },
   "file_extension": ".py",
   "mimetype": "text/x-python",
   "name": "python",
   "nbconvert_exporter": "python",
   "pygments_lexer": "ipython3",
   "version": "3.10.12"
  }
 },
 "nbformat": 4,
 "nbformat_minor": 2
}
