{
 "cells": [
  {
   "cell_type": "code",
   "execution_count": null,
   "metadata": {},
   "outputs": [],
   "source": [
    "import pandas as pd\n",
    "import statsmodels.api as sm\n",
    "\n",
    "# Carregar os dados do arquivo .dta\n",
    "df = pd.read_stata('lesson_3.dta')\n",
    "\n",
    "# Definir a variável dependente e as variáveis independentes\n",
    "y = df['industria']\n",
    "X = df[['selic', 'cambio', 'rendimento', 'igpm']]\n",
    "\n",
    "# Adicionar uma constante aos preditores para o intercepto\n",
    "X = sm.add_constant(X)\n",
    "\n",
    "# Ajustar o modelo de regressão linear\n",
    "model = sm.OLS(y, X).fit()\n",
    "\n",
    "# Exibir um resumo dos resultados da regressão\n",
    "print(model.summary())\n"
   ]
  },
  {
   "cell_type": "code",
   "execution_count": null,
   "metadata": {},
   "outputs": [],
   "source": [
    "import pandas as pd\n",
    "import statsmodels.api as sm\n",
    "\n",
    "# Carregar os dados do arquivo .dta\n",
    "df = pd.read_stata('lesson_3.dta')\n",
    "\n",
    "# Definir a variável dependente e as variáveis independentes\n",
    "y = df['industria']\n",
    "X = df[['selic', 'cambio', 'rendimento', 'igpm']]\n",
    "\n",
    "# Ajustar o modelo de regressão linear sem constante\n",
    "model = sm.OLS(y, X).fit()\n",
    "\n",
    "# Exibir um resumo dos resultados da regressão\n",
    "print(model.summary())"
   ]
  },
  {
   "cell_type": "code",
   "execution_count": null,
   "metadata": {},
   "outputs": [],
   "source": [
    "import pandas as pd\n",
    "import statsmodels.api as sm\n",
    "\n",
    "# Carregar os dados do arquivo .dta\n",
    "df = pd.read_stata('lesson_3.dta')\n",
    "\n",
    "# Definir a variável dependente e as variáveis independentes\n",
    "y = df['benscapital']\n",
    "X = df[['selic', 'cambio', 'rendimento', 'igpm']]\n",
    "\n",
    "# Adicionar uma constante aos preditores para o intercepto\n",
    "X = sm.add_constant(X)\n",
    "\n",
    "# Ajustar o modelo de regressão linear\n",
    "model = sm.OLS(y, X).fit()\n",
    "\n",
    "# Exibir um resumo dos resultados da regressão\n",
    "print(model.summary())"
   ]
  },
  {
   "cell_type": "code",
   "execution_count": 26,
   "metadata": {},
   "outputs": [
    {
     "name": "stdout",
     "output_type": "stream",
     "text": [
      "                            OLS Regression Results                            \n",
      "==============================================================================\n",
      "Dep. Variable:            benscapital   R-squared:                       0.353\n",
      "Model:                            OLS   Adj. R-squared:                  0.334\n",
      "Method:                 Least Squares   F-statistic:                     18.65\n",
      "Date:                Wed, 20 Mar 2024   Prob (F-statistic):           2.95e-12\n",
      "Time:                        22:09:21   Log-Likelihood:                -582.32\n",
      "No. Observations:                 142   AIC:                             1175.\n",
      "Df Residuals:                     137   BIC:                             1189.\n",
      "Df Model:                           4                                         \n",
      "Covariance Type:            nonrobust                                         \n",
      "==============================================================================\n",
      "                 coef    std err          t      P>|t|      [0.025      0.975]\n",
      "------------------------------------------------------------------------------\n",
      "const        267.6313     25.719     10.406      0.000     216.775     318.488\n",
      "selic         -9.1477      4.787     -1.911      0.058     -18.615       0.319\n",
      "cambio        -5.5636      1.110     -5.013      0.000      -7.758      -3.369\n",
      "rendimento    -0.0487      0.009     -5.647      0.000      -0.066      -0.032\n",
      "igpm          -0.1485      1.441     -0.103      0.918      -2.998       2.701\n",
      "==============================================================================\n",
      "Omnibus:                        0.270   Durbin-Watson:                   0.477\n",
      "Prob(Omnibus):                  0.874   Jarque-Bera (JB):                0.332\n",
      "Skew:                          -0.102   Prob(JB):                        0.847\n",
      "Kurtosis:                       2.879   Cond. No.                     6.15e+04\n",
      "==============================================================================\n",
      "\n",
      "Notes:\n",
      "[1] Standard Errors assume that the covariance matrix of the errors is correctly specified.\n",
      "[2] The condition number is large, 6.15e+04. This might indicate that there are\n",
      "strong multicollinearity or other numerical problems.\n"
     ]
    }
   ],
   "source": [
    "import pandas as pd\n",
    "import statsmodels.api as sm\n",
    "\n",
    "# Carregar os dados do arquivo .dta\n",
    "df = pd.read_stata('lesson_3.dta')\n",
    "\n",
    "# Definir a variável dependente e as variáveis independentes\n",
    "y = df['benscapital']\n",
    "X = df[['selic', 'cambio', 'rendimento', 'igpm']]\n",
    "\n",
    "# Adicionar uma constante aos preditores para o intercepto\n",
    "X = sm.add_constant(X)\n",
    "\n",
    "# Ajustar o modelo de regressão linear\n",
    "model = sm.OLS(y, X).fit()\n",
    "\n",
    "# Exibir um resumo dos resultados da regressão\n",
    "print(model.summary())"
   ]
  }
 ],
 "metadata": {
  "kernelspec": {
   "display_name": ".venv",
   "language": "python",
   "name": "python3"
  },
  "language_info": {
   "codemirror_mode": {
    "name": "ipython",
    "version": 3
   },
   "file_extension": ".py",
   "mimetype": "text/x-python",
   "name": "python",
   "nbconvert_exporter": "python",
   "pygments_lexer": "ipython3",
   "version": "3.10.12"
  }
 },
 "nbformat": 4,
 "nbformat_minor": 2
}
