{
 "cells": [
  {
   "cell_type": "code",
   "execution_count": 4,
   "metadata": {},
   "outputs": [
    {
     "name": "stdout",
     "output_type": "stream",
     "text": [
      "                            OLS Regression Results                            \n",
      "==============================================================================\n",
      "Dep. Variable:              industria   R-squared:                       0.468\n",
      "Model:                            OLS   Adj. R-squared:                  0.452\n",
      "Method:                 Least Squares   F-statistic:                     30.07\n",
      "Date:                Wed, 20 Mar 2024   Prob (F-statistic):           5.88e-18\n",
      "Time:                        20:21:39   Log-Likelihood:                -494.76\n",
      "No. Observations:                 142   AIC:                             999.5\n",
      "Df Residuals:                     137   BIC:                             1014.\n",
      "Df Model:                           4                                         \n",
      "Covariance Type:            nonrobust                                         \n",
      "==============================================================================\n",
      "                 coef    std err          t      P>|t|      [0.025      0.975]\n",
      "------------------------------------------------------------------------------\n",
      "const        213.0583     13.882     15.348      0.000     185.608     240.508\n",
      "selic         -1.8620      2.584     -0.721      0.472      -6.972       3.248\n",
      "cambio        -4.1379      0.599     -6.908      0.000      -5.322      -2.953\n",
      "rendimento    -0.0307      0.005     -6.605      0.000      -0.040      -0.022\n",
      "igpm           0.4874      0.778      0.627      0.532      -1.051       2.025\n",
      "==============================================================================\n",
      "Omnibus:                        5.361   Durbin-Watson:                   0.648\n",
      "Prob(Omnibus):                  0.069   Jarque-Bera (JB):                5.466\n",
      "Skew:                          -0.304   Prob(JB):                       0.0650\n",
      "Kurtosis:                       3.744   Cond. No.                     6.15e+04\n",
      "==============================================================================\n",
      "\n",
      "Notes:\n",
      "[1] Standard Errors assume that the covariance matrix of the errors is correctly specified.\n",
      "[2] The condition number is large, 6.15e+04. This might indicate that there are\n",
      "strong multicollinearity or other numerical problems.\n"
     ]
    }
   ],
   "source": [
    "import pandas as pd\n",
    "import statsmodels.api as sm\n",
    "\n",
    "# Carregar os dados do arquivo .dta\n",
    "df = pd.read_stata('lesson_3.dta')\n",
    "\n",
    "# Definir a variável dependente e as variáveis independentes\n",
    "y = df['industria']\n",
    "X = df[['selic', 'cambio', 'rendimento', 'igpm']]\n",
    "\n",
    "# Adicionar uma constante aos preditores para o intercepto\n",
    "X = sm.add_constant(X)\n",
    "\n",
    "# Ajustar o modelo de regressão linear\n",
    "model = sm.OLS(y, X).fit()\n",
    "\n",
    "# Exibir um resumo dos resultados da regressão\n",
    "print(model.summary())\n"
   ]
  },
  {
   "cell_type": "code",
   "execution_count": 5,
   "metadata": {},
   "outputs": [
    {
     "name": "stdout",
     "output_type": "stream",
     "text": [
      "                                 OLS Regression Results                                \n",
      "=======================================================================================\n",
      "Dep. Variable:              industria   R-squared (uncentered):                   0.985\n",
      "Model:                            OLS   Adj. R-squared (uncentered):              0.984\n",
      "Method:                 Least Squares   F-statistic:                              2238.\n",
      "Date:                Wed, 20 Mar 2024   Prob (F-statistic):                   2.25e-124\n",
      "Time:                        20:24:45   Log-Likelihood:                         -565.79\n",
      "No. Observations:                 142   AIC:                                      1140.\n",
      "Df Residuals:                     138   BIC:                                      1151.\n",
      "Df Model:                           4                                                  \n",
      "Covariance Type:            nonrobust                                                  \n",
      "==============================================================================\n",
      "                 coef    std err          t      P>|t|      [0.025      0.975]\n",
      "------------------------------------------------------------------------------\n",
      "selic          7.9633      4.113      1.936      0.055      -0.170      16.097\n",
      "cambio        -4.6392      0.983     -4.720      0.000      -6.583      -2.696\n",
      "rendimento     0.0387      0.002     21.622      0.000       0.035       0.042\n",
      "igpm           1.5395      1.273      1.209      0.229      -0.978       4.057\n",
      "==============================================================================\n",
      "Omnibus:                        7.765   Durbin-Watson:                   0.518\n",
      "Prob(Omnibus):                  0.021   Jarque-Bera (JB):                8.173\n",
      "Skew:                          -0.573   Prob(JB):                       0.0168\n",
      "Kurtosis:                       2.740   Cond. No.                     1.12e+04\n",
      "==============================================================================\n",
      "\n",
      "Notes:\n",
      "[1] R² is computed without centering (uncentered) since the model does not contain a constant.\n",
      "[2] Standard Errors assume that the covariance matrix of the errors is correctly specified.\n",
      "[3] The condition number is large, 1.12e+04. This might indicate that there are\n",
      "strong multicollinearity or other numerical problems.\n"
     ]
    }
   ],
   "source": [
    "import pandas as pd\n",
    "import statsmodels.api as sm\n",
    "\n",
    "# Carregar os dados do arquivo .dta\n",
    "df = pd.read_stata('lesson_3.dta')\n",
    "\n",
    "# Definir a variável dependente e as variáveis independentes\n",
    "y = df['industria']\n",
    "X = df[['selic', 'cambio', 'rendimento', 'igpm']]\n",
    "\n",
    "# Ajustar o modelo de regressão linear sem constante\n",
    "model = sm.OLS(y, X).fit()\n",
    "\n",
    "# Exibir um resumo dos resultados da regressão\n",
    "print(model.summary())\n"
   ]
  }
 ],
 "metadata": {
  "kernelspec": {
   "display_name": ".venv",
   "language": "python",
   "name": "python3"
  },
  "language_info": {
   "codemirror_mode": {
    "name": "ipython",
    "version": 3
   },
   "file_extension": ".py",
   "mimetype": "text/x-python",
   "name": "python",
   "nbconvert_exporter": "python",
   "pygments_lexer": "ipython3",
   "version": "3.10.12"
  }
 },
 "nbformat": 4,
 "nbformat_minor": 2
}
