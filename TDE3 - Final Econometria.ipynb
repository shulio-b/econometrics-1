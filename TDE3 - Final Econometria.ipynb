{
 "cells": [
  {
   "cell_type": "markdown",
   "id": "7abd4785",
   "metadata": {},
   "source": [
    "# TDE Final de Econometria I"
   ]
  },
  {
   "cell_type": "markdown",
   "id": "8e8d3c11",
   "metadata": {},
   "source": [
    "## Nome: Júlio Cristóvão Balena"
   ]
  },
  {
   "cell_type": "markdown",
   "id": "8d9017bf",
   "metadata": {},
   "source": [
    "## Procedimento de Pesquisa:\n",
    "\n",
    "Estudar amostra que compõe informações de uma Assessoria da XP em relação a reuniões e captação"
   ]
  },
  {
   "cell_type": "markdown",
   "metadata": {},
   "source": [
    "# STEP 1: Abrir o arquivo e definir subconjuntos.\n",
    "\n",
    "As variáveis selecionadas e/ou construídas são:\n",
    "\n",
    "'done_meetings': Reuniões feitas em M+0\n",
    "\n",
    "'done_meetings+1_month': Reuniões feitas em M-1\n",
    "\n",
    "'done_meetings+2_month': Reuniões feitas em M-2\n",
    "\n",
    "'is_male': Variável dummy para representar se a amostra foi de um Assessor do gênero Masculino (1)\n",
    "\n",
    "'client_count': Número de clientes em carteira no final do mês\n",
    "\n",
    "'wallet_equity': Equity da carteira no final do mês\n",
    "\n",
    "'average_ticket': Ticket Médio\n",
    "\n",
    "'supernova': Variável dummy para representar se a carteira tem Menos de 80 clientes (1)"
   ]
  },
  {
   "cell_type": "code",
   "execution_count": 5,
   "metadata": {},
   "outputs": [],
   "source": [
    "import pandas as pd\n",
    "import numpy as np\n",
    "import statsmodels.api as sm\n",
    "\n",
    "# Load the data from .dta file\n",
    "file_path = 'CdV_6_MONTHS.ods'\n",
    "df = pd.read_excel('CdV_6_MONTHS.ods', engine='odf', sheet_name='Sheet1')\n",
    "\n",
    "# New columns:\n",
    "df['average_ticket'] = df['wallet_equity'] / df['client_count']\n",
    "df['supernova'] = df['client_count'].apply(lambda x: 1 if x <= 80 else 0)\n",
    "\n",
    "\n",
    "# Convert 'month_date' to datetime format\n",
    "df['month_date'] = pd.to_datetime(df['month_date'], format='%Y-%m')\n",
    "# Sort the data by 'employee_name' and 'month_date'\n",
    "df = df.sort_values(by=['employee_name', 'month_date'])\n",
    "# Create a new column with delayed values\n",
    "df['done_meetings+1_month'] = df.groupby('employee_name')['done_meetings'].shift(-1)\n",
    "df['done_meetings+2_month'] = df.groupby('employee_name')['done_meetings'].shift(-2)\n",
    "\n",
    "# Define the dependent variable and the independent variables\n",
    "y_subset = ['cap_value']\n",
    "\n",
    "# Subset Option 1:\n",
    "#x_subset = ['done_meetings', 'is_male', 'client_count', 'wallet_equity', 'average_ticket', 'supernova', 'done_meetings+1_month', 'done_meetings+2_month'] \n",
    "\n",
    "# Subset Option 2:\n",
    "#x_subset = ['done_meetings', 'is_male', 'client_count', 'wallet_equity', 'supernova', 'done_meetings+1_month', 'done_meetings+2_month'] \n",
    "\n",
    "# Subset Option 3:\n",
    "#x_subset = ['done_meetings', 'is_male', 'client_count', 'average_ticket', 'supernova', 'done_meetings+1_month'] \n",
    "\n",
    "# Subset Option 4:\n",
    "x_subset = ['done_meetings', 'is_male', 'average_ticket', 'supernova', 'done_meetings+1_month']\n",
    "\n",
    "# Create a list of all columns to check for NaNs\n",
    "subset_check = y_subset + x_subset\n",
    "\n",
    "# Drop rows where any of the specified columns have NaN values\n",
    "df_filtered = df.dropna(subset=subset_check)\n",
    "\n",
    "# Redefine y and X with the filtered data\n",
    "y_filtered = df_filtered[y_subset]\n",
    "X_filtered = df_filtered[x_subset]\n"
   ]
  },
  {
   "cell_type": "markdown",
   "metadata": {},
   "source": [
    "# STEP 2: Testar para Multicolinearidade\n",
    "\n",
    "Foram testados vários subsets de variáveis exógenas. Para todas as combinações foi encontrado apenas alta correlação no par:\n",
    "\n",
    "'wallet_equity' & 'average_ticket'\n",
    "\n",
    "Optei por remover 'wallet_equity'"
   ]
  },
  {
   "cell_type": "code",
   "execution_count": 6,
   "metadata": {},
   "outputs": [
    {
     "data": {
      "text/plain": [
       "Series([], dtype: float64)"
      ]
     },
     "execution_count": 6,
     "metadata": {},
     "output_type": "execute_result"
    }
   ],
   "source": [
    "import numpy as np\n",
    "\n",
    "#Print X subset correlation\n",
    "correlation_matrix = df[x_subset].corr()\n",
    "\n",
    "# Create a mask to select the upper triangle of the correlation matrix\n",
    "mask = (correlation_matrix.where(~np.tril(np.ones(correlation_matrix.shape)).astype(bool))).stack()\n",
    "\n",
    "# Filter correlations greater than 0.80\n",
    "high_correlations = mask[mask > 0.80]\n",
    "\n",
    "high_correlations"
   ]
  },
  {
   "cell_type": "markdown",
   "metadata": {},
   "source": [
    "# STEP 3: Fazer o modelo para OLS (MQO)"
   ]
  },
  {
   "cell_type": "code",
   "execution_count": 7,
   "metadata": {},
   "outputs": [
    {
     "name": "stdout",
     "output_type": "stream",
     "text": [
      "                            OLS Regression Results                            \n",
      "==============================================================================\n",
      "Dep. Variable:              cap_value   R-squared:                       0.235\n",
      "Model:                            OLS   Adj. R-squared:                  0.178\n",
      "Method:                 Least Squares   F-statistic:                     4.066\n",
      "Date:                Thu, 11 Jul 2024   Prob (F-statistic):            0.00281\n",
      "Time:                        19:42:22   Log-Likelihood:                -1127.5\n",
      "No. Observations:                  72   AIC:                             2267.\n",
      "Df Residuals:                      66   BIC:                             2281.\n",
      "Df Model:                           5                                         \n",
      "Covariance Type:            nonrobust                                         \n",
      "=========================================================================================\n",
      "                            coef    std err          t      P>|t|      [0.025      0.975]\n",
      "-----------------------------------------------------------------------------------------\n",
      "const                 -1.273e+06   7.61e+05     -1.673      0.099   -2.79e+06    2.46e+05\n",
      "done_meetings          3188.3627   1.11e+04      0.287      0.775    -1.9e+04    2.53e+04\n",
      "is_male                -4.17e+04   4.58e+05     -0.091      0.928   -9.56e+05    8.73e+05\n",
      "average_ticket            0.1113      0.501      0.222      0.825      -0.890       1.112\n",
      "supernova              3.652e+05   5.49e+05      0.666      0.508    -7.3e+05    1.46e+06\n",
      "done_meetings+1_month  4.099e+04   1.17e+04      3.505      0.001    1.76e+04    6.43e+04\n",
      "==============================================================================\n",
      "Omnibus:                        3.097   Durbin-Watson:                   1.967\n",
      "Prob(Omnibus):                  0.213   Jarque-Bera (JB):                2.966\n",
      "Skew:                           0.028   Prob(JB):                        0.227\n",
      "Kurtosis:                       3.993   Cond. No.                     4.00e+06\n",
      "==============================================================================\n",
      "\n",
      "Notes:\n",
      "[1] Standard Errors assume that the covariance matrix of the errors is correctly specified.\n",
      "[2] The condition number is large,  4e+06. This might indicate that there are\n",
      "strong multicollinearity or other numerical problems.\n"
     ]
    }
   ],
   "source": [
    "# Add a constant to the predictors for the intercept\n",
    "X_filtered = sm.add_constant(X_filtered)\n",
    "\n",
    "# Fit the linear regression model\n",
    "model = sm.OLS(y_filtered, X_filtered).fit()\n",
    "\n",
    "# Display a summary of the regression results\n",
    "print(model.summary())"
   ]
  },
  {
   "cell_type": "markdown",
   "metadata": {},
   "source": [
    "# STEP 4: Testar para Heterocedasticidade\n",
    "\n",
    "- Observar variância dos erros\n",
    "- Teste de Breusch-Pagan"
   ]
  },
  {
   "cell_type": "code",
   "execution_count": 8,
   "metadata": {},
   "outputs": [
    {
     "data": {
      "image/png": "[encoded data removed]",
      "text/plain": [
       "<Figure size 640x480 with 1 Axes>"
      ]
     },
     "metadata": {},
     "output_type": "display_data"
    }
   ],
   "source": [
    "import statsmodels.api as sm\n",
    "import matplotlib.pyplot as plt\n",
    "\n",
    "# Assuming you have a fitted model named `model`\n",
    "residuals = model.resid\n",
    "fitted = model.fittedvalues\n",
    "\n",
    "plt.scatter(fitted, residuals)\n",
    "plt.xlabel('Fitted Values')\n",
    "plt.ylabel('Residuals')\n",
    "plt.title('Residuals vs Fitted Values')\n",
    "plt.axhline(0, color='red', linestyle='--')\n",
    "plt.show()\n"
   ]
  },
  {
   "cell_type": "code",
   "execution_count": 111,
   "metadata": {},
   "outputs": [
    {
     "name": "stdout",
     "output_type": "stream",
     "text": [
      "{'Lagrange multiplier statistic': 14.765291184109843, 'p-value': 0.005213613861263528, 'f-value': 4.4882073765044765, 'f p-value': 0.0032854295827516398}\n"
     ]
    }
   ],
   "source": [
    "from statsmodels.stats.diagnostic import het_breuschpagan\n",
    "from statsmodels.stats.diagnostic import het_white\n",
    "\n",
    "# Perform the Breusch-Pagan test\n",
    "bp_test = het_breuschpagan(model.resid, model.model.exog)\n",
    "\n",
    "# bp_test returns (Lagrange multiplier statistic, p-value, f-value, f p-value)\n",
    "labels = ['Lagrange multiplier statistic', 'p-value', 'f-value', 'f p-value']\n",
    "bp_results = dict(zip(labels, bp_test))\n",
    "\n",
    "print(bp_results)"
   ]
  },
  {
   "cell_type": "markdown",
   "metadata": {},
   "source": [
    "# STEP 5: Transformação Log-Log\n",
    "\n",
    "- Teste extra utilizando modelo robusto a Heterocedasticidade (HC3)"
   ]
  },
  {
   "cell_type": "code",
   "execution_count": 9,
   "metadata": {},
   "outputs": [
    {
     "name": "stdout",
     "output_type": "stream",
     "text": [
      "                            OLS Regression Results                            \n",
      "==============================================================================\n",
      "Dep. Variable:          log_cap_value   R-squared:                       0.331\n",
      "Model:                            OLS   Adj. R-squared:                  0.269\n",
      "Method:                 Least Squares   F-statistic:                     5.340\n",
      "Date:                Thu, 11 Jul 2024   Prob (F-statistic):           0.000465\n",
      "Time:                        19:50:37   Log-Likelihood:                -127.55\n",
      "No. Observations:                  60   AIC:                             267.1\n",
      "Df Residuals:                      54   BIC:                             279.7\n",
      "Df Model:                           5                                         \n",
      "Covariance Type:            nonrobust                                         \n",
      "=============================================================================================\n",
      "                                coef    std err          t      P>|t|      [0.025      0.975]\n",
      "---------------------------------------------------------------------------------------------\n",
      "const                        -2.3016      7.825     -0.294      0.770     -17.990      13.387\n",
      "log_done_meetings             0.1236      0.792      0.156      0.877      -1.464       1.712\n",
      "log_is_male                   0.0495      0.046      1.080      0.285      -0.042       0.141\n",
      "log_average_ticket            0.2277      0.684      0.333      0.741      -1.144       1.599\n",
      "log_supernova                -0.1649      0.060     -2.740      0.008      -0.286      -0.044\n",
      "log_done_meetings+1_month     2.5872      0.976      2.651      0.011       0.630       4.544\n",
      "==============================================================================\n",
      "Omnibus:                       16.093   Durbin-Watson:                   2.020\n",
      "Prob(Omnibus):                  0.000   Jarque-Bera (JB):               20.814\n",
      "Skew:                          -1.044   Prob(JB):                     3.02e-05\n",
      "Kurtosis:                       4.992   Cond. No.                         552.\n",
      "==============================================================================\n",
      "\n",
      "Notes:\n",
      "[1] Standard Errors assume that the covariance matrix of the errors is correctly specified.\n"
     ]
    },
    {
     "name": "stderr",
     "output_type": "stream",
     "text": [
      "/home/julio/Documents/econometrics-1/.venv/lib/python3.10/site-packages/pandas/core/arraylike.py:399: RuntimeWarning: invalid value encountered in log\n",
      "  result = getattr(ufunc, method)(*inputs, **kwargs)\n"
     ]
    }
   ],
   "source": [
    "# Create log-transformed columns for all variables with a small constant added\n",
    "small_constant = 1e-6\n",
    "log_vars = y_subset + x_subset\n",
    "for var in log_vars:\n",
    "    df[f'log_{var}'] = np.log(df[var] + small_constant)\n",
    "\n",
    "# Define the log-transformed dependent variable and the independent variables\n",
    "log_y_subset = [f'log_{var}' for var in y_subset]\n",
    "log_x_subset = [f'log_{var}' for var in x_subset]\n",
    "\n",
    "# Create a list of all columns to check for NaNs\n",
    "log_subset_check = log_y_subset + log_x_subset\n",
    "\n",
    "# Drop rows where any of the specified columns have NaN values\n",
    "df_filtered = df.dropna(subset=log_subset_check)\n",
    "\n",
    "# Redefine y and X with the log-transformed columns\n",
    "y_filtered = df_filtered[log_y_subset]\n",
    "X_filtered = df_filtered[log_x_subset]\n",
    "\n",
    "# Add a constant to the predictors for the intercept\n",
    "X_filtered = sm.add_constant(X_filtered)\n",
    "\n",
    "# Fit the linear regression model\n",
    "model = sm.OLS(y_filtered, X_filtered).fit()\n",
    "\n",
    "# Display a summary of the regression results\n",
    "print(model.summary())"
   ]
  },
  {
   "cell_type": "code",
   "execution_count": 10,
   "metadata": {},
   "outputs": [
    {
     "name": "stdout",
     "output_type": "stream",
     "text": [
      "                            OLS Regression Results                            \n",
      "==============================================================================\n",
      "Dep. Variable:          log_cap_value   R-squared:                       0.331\n",
      "Model:                            OLS   Adj. R-squared:                  0.269\n",
      "Method:                 Least Squares   F-statistic:                     3.723\n",
      "Date:                Thu, 11 Jul 2024   Prob (F-statistic):            0.00573\n",
      "Time:                        19:51:04   Log-Likelihood:                -127.55\n",
      "No. Observations:                  60   AIC:                             267.1\n",
      "Df Residuals:                      54   BIC:                             279.7\n",
      "Df Model:                           5                                         \n",
      "Covariance Type:                  HC3                                         \n",
      "=============================================================================================\n",
      "                                coef    std err          z      P>|z|      [0.025      0.975]\n",
      "---------------------------------------------------------------------------------------------\n",
      "const                        -2.3016      6.158     -0.374      0.709     -14.370       9.767\n",
      "log_done_meetings             0.1236      0.701      0.176      0.860      -1.250       1.497\n",
      "log_is_male                   0.0495      0.049      1.005      0.315      -0.047       0.146\n",
      "log_average_ticket            0.2277      0.706      0.322      0.747      -1.157       1.612\n",
      "log_supernova                -0.1649      0.105     -1.567      0.117      -0.371       0.041\n",
      "log_done_meetings+1_month     2.5872      1.220      2.120      0.034       0.195       4.979\n",
      "==============================================================================\n",
      "Omnibus:                       16.093   Durbin-Watson:                   2.020\n",
      "Prob(Omnibus):                  0.000   Jarque-Bera (JB):               20.814\n",
      "Skew:                          -1.044   Prob(JB):                     3.02e-05\n",
      "Kurtosis:                       4.992   Cond. No.                         552.\n",
      "==============================================================================\n",
      "\n",
      "Notes:\n",
      "[1] Standard Errors are heteroscedasticity robust (HC3)\n"
     ]
    }
   ],
   "source": [
    "import statsmodels.api as sm\n",
    "\n",
    "# Assuming y_filtered and X_filtered are already defined as in the previous example\n",
    "model_robust = sm.OLS(y_filtered, X_filtered).fit(cov_type='HC3')\n",
    "print(model_robust.summary())\n"
   ]
  },
  {
   "cell_type": "markdown",
   "metadata": {},
   "source": [
    "# Conclusão\n",
    "\n",
    "Para todos os subset testados (escolhido o subset 4 em log-log), o modelo apresentou um R² ajustado de 33%. Com base na análise, podemos concluir que a variável 'done_meetings+1', que representa a quantidade de reuniões feitas no mês anterior, é estatisticamente significativa. No entanto, o conceito de \"Supernova\" não demonstrou significância estatística dentro da amostra e do modelo utilizados. Outras variáveis exógenas também não apresentaram relevância estatística.\n",
    "\n",
    "## Sugestões de Melhorias para Avaliações Futuras\n",
    "\n",
    "1. **Detalhamento do Churn:**\n",
    "   - É importante detalhar melhor o churn de cada usuário por mês, tanto em termos de volume quanto de quantidade. Isso pode ajudar a identificar padrões e comportamentos que influenciam a retenção e o cancelamento de clientes.\n",
    "\n",
    "2. **Variável Dummy para Localização:**\n",
    "   - Incluir uma variável dummy para representar a base local de estar em São Paulo (1) pode fornecer insights sobre possíveis efeitos regionais no desempenho dos colaboradores e nos resultados das reuniões.\n",
    "\n",
    "3. **Idade dos Colaboradores:**\n",
    "   - Considerar a inclusão da idade dos colaboradores em anos como uma variável explicativa. A experiência e a maturidade dos colaboradores podem influenciar a eficácia das reuniões e o desempenho geral.\n",
    "\n",
    "## Análises Adicionais\n",
    "\n",
    "1. **Interação entre Variáveis:**\n",
    "   - Explorar possíveis interações entre variáveis. Por exemplo, a interação entre o número de reuniões e a localização do colaborador pode revelar insights adicionais sobre o desempenho regional.\n",
    "\n",
    "2. **Modelos Alternativos:**\n",
    "   - Testar modelos alternativos, como modelos de regressão não linear ou modelos de machine learning (e.g., Random Forest, Gradient Boosting), para comparar a performance e a capacidade preditiva.\n",
    "\n",
    "3. **Validação Cruzada:**\n",
    "   - Implementar validação cruzada para avaliar a robustez do modelo. Isso ajudará a garantir que os resultados não sejam específicos apenas da amostra utilizada.\n",
    "\n",
    "4. **Análise Temporal:**\n",
    "   - Considerar a análise temporal das variáveis para capturar tendências e sazonalidades que possam afetar os resultados.\n",
    "\n",
    "Implementar essas melhorias e análises adicionais pode fornecer uma compreensão mais profunda dos fatores que influenciam o desempenho e a retenção dos colaboradores, bem como aprimorar a precisão e a robustez dos modelos preditivos.\n"
   ]
  },
  {
   "cell_type": "markdown",
   "metadata": {},
   "source": [
    "# Extra: WLS"
   ]
  },
  {
   "cell_type": "code",
   "execution_count": 11,
   "metadata": {},
   "outputs": [
    {
     "name": "stdout",
     "output_type": "stream",
     "text": [
      "                            WLS Regression Results                            \n",
      "==============================================================================\n",
      "Dep. Variable:          log_cap_value   R-squared:                       0.850\n",
      "Model:                            WLS   Adj. R-squared:                  0.836\n",
      "Method:                 Least Squares   F-statistic:                     61.30\n",
      "Date:                Thu, 11 Jul 2024   Prob (F-statistic):           4.89e-21\n",
      "Time:                        20:01:46   Log-Likelihood:                -69.502\n",
      "No. Observations:                  60   AIC:                             151.0\n",
      "Df Residuals:                      54   BIC:                             163.6\n",
      "Df Model:                           5                                         \n",
      "Covariance Type:            nonrobust                                         \n",
      "=============================================================================================\n",
      "                                coef    std err          t      P>|t|      [0.025      0.975]\n",
      "---------------------------------------------------------------------------------------------\n",
      "const                        -0.6566      1.283     -0.512      0.611      -3.229       1.916\n",
      "log_done_meetings             0.2345      0.107      2.182      0.033       0.019       0.450\n",
      "log_is_male                   0.0439      0.011      3.874      0.000       0.021       0.067\n",
      "log_average_ticket            0.1837      0.064      2.884      0.006       0.056       0.311\n",
      "log_supernova                -0.1393      0.027     -5.125      0.000      -0.194      -0.085\n",
      "log_done_meetings+1_month     2.3161      0.146     15.840      0.000       2.023       2.609\n",
      "==============================================================================\n",
      "Omnibus:                      216.522   Durbin-Watson:                   2.320\n",
      "Prob(Omnibus):                  0.000   Jarque-Bera (JB):                8.737\n",
      "Skew:                          -0.423   Prob(JB):                       0.0127\n",
      "Kurtosis:                       1.333   Cond. No.                     1.57e+03\n",
      "==============================================================================\n",
      "\n",
      "Notes:\n",
      "[1] Standard Errors assume that the covariance matrix of the errors is correctly specified.\n",
      "[2] The condition number is large, 1.57e+03. This might indicate that there are\n",
      "strong multicollinearity or other numerical problems.\n"
     ]
    }
   ],
   "source": [
    "from statsmodels.regression.linear_model import WLS\n",
    "\n",
    "# Calculate weights as the inverse of the variance of residuals\n",
    "weights = 1 / (model.resid ** 2)\n",
    "\n",
    "# Fit the model using Weighted Least Squares\n",
    "model_wls = WLS(y_filtered, X_filtered, weights=weights).fit()\n",
    "print(model_wls.summary())\n"
   ]
  }
 ],
 "metadata": {
  "kernelspec": {
   "display_name": ".venv",
   "language": "python",
   "name": "python3"
  },
  "language_info": {
   "codemirror_mode": {
    "name": "ipython",
    "version": 3
   },
   "file_extension": ".py",
   "mimetype": "text/x-python",
   "name": "python",
   "nbconvert_exporter": "python",
   "pygments_lexer": "ipython3",
   "version": "3.10.12"
  }
 },
 "nbformat": 4,
 "nbformat_minor": 2
}
