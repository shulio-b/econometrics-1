{
 "cells": [
  {
   "cell_type": "code",
   "execution_count": 12,
   "metadata": {},
   "outputs": [
    {
     "name": "stdout",
     "output_type": "stream",
     "text": [
      "                                 OLS Regression Results                                \n",
      "=======================================================================================\n",
      "Dep. Variable:          endividamento   R-squared (uncentered):                   0.993\n",
      "Model:                            OLS   Adj. R-squared (uncentered):              0.993\n",
      "Method:                 Least Squares   F-statistic:                              4186.\n",
      "Date:                Wed, 26 Jun 2024   Prob (F-statistic):                   2.11e-157\n",
      "Time:                        20:15:27   Log-Likelihood:                         -406.41\n",
      "No. Observations:                 153   AIC:                                      822.8\n",
      "Df Residuals:                     148   BIC:                                      838.0\n",
      "Df Model:                           5                                                  \n",
      "Covariance Type:            nonrobust                                                  \n",
      "===============================================================================\n",
      "                  coef    std err          t      P>|t|      [0.025      0.975]\n",
      "-------------------------------------------------------------------------------\n",
      "spreadrlpf      2.0025      0.082     24.376      0.000       1.840       2.165\n",
      "reclivrepf   2.013e-05   5.65e-07     35.648      0.000     1.9e-05    2.12e-05\n",
      "selic          12.4503      3.724      3.343      0.001       5.091      19.809\n",
      "selicdef_-1    -3.6747      3.709     -0.991      0.323     -11.004       3.654\n",
      "selicdef_-2   -16.5496      3.802     -4.352      0.000     -24.064      -9.036\n",
      "==============================================================================\n",
      "Omnibus:                       11.589   Durbin-Watson:                   0.385\n",
      "Prob(Omnibus):                  0.003   Jarque-Bera (JB):                5.036\n",
      "Skew:                          -0.176   Prob(JB):                       0.0806\n",
      "Kurtosis:                       2.184   Cond. No.                     1.78e+07\n",
      "==============================================================================\n",
      "\n",
      "Notes:\n",
      "[1] R² is computed without centering (uncentered) since the model does not contain a constant.\n",
      "[2] Standard Errors assume that the covariance matrix of the errors is correctly specified.\n",
      "[3] The condition number is large, 1.78e+07. This might indicate that there are\n",
      "strong multicollinearity or other numerical problems.\n"
     ]
    }
   ],
   "source": [
    "import pandas as pd\n",
    "import statsmodels.api as sm\n",
    "\n",
    "# Load the data from .dta file\n",
    "df = pd.read_stata('credito.dta')\n",
    "\n",
    "df['selicdef_-1'] = df['selic'].shift(1)\n",
    "df['selicdef_-2'] = df['selic'].shift(2)\n",
    "\n",
    "# Define the dependent variable and the independent variables\n",
    "y_subset = ['endividamento']\n",
    "x_subset = ['spreadrlpf', 'reclivrepf', 'selic', 'selicdef_-1', 'selicdef_-2']\n",
    "\n",
    "# Create a list of all columns to check for NaNs\n",
    "subset_check = y_subset + x_subset\n",
    "\n",
    "# Drop rows where any of the specified columns have NaN values\n",
    "df_filtered = df.dropna(subset=subset_check)\n",
    "\n",
    "# Redefine y and X with the filtered data\n",
    "y_filtered = df_filtered[y_subset]\n",
    "X_filtered = df_filtered[x_subset]\n",
    "\n",
    "# Add a constant to the predictors for the intercept\n",
    "#X_filtered = sm.add_constant(X_filtered)\n",
    "\n",
    "# Fit the linear regression model\n",
    "model = sm.OLS(y_filtered, X_filtered).fit()\n",
    "\n",
    "# Display a summary of the regression results\n",
    "print(model.summary())\n"
   ]
  },
  {
   "cell_type": "code",
   "execution_count": 10,
   "metadata": {},
   "outputs": [
    {
     "data": {
      "text/html": [
       "<div>\n",
       "<style scoped>\n",
       "    .dataframe tbody tr th:only-of-type {\n",
       "        vertical-align: middle;\n",
       "    }\n",
       "\n",
       "    .dataframe tbody tr th {\n",
       "        vertical-align: top;\n",
       "    }\n",
       "\n",
       "    .dataframe thead th {\n",
       "        text-align: right;\n",
       "    }\n",
       "</style>\n",
       "<table border=\"1\" class=\"dataframe\">\n",
       "  <thead>\n",
       "    <tr style=\"text-align: right;\">\n",
       "      <th></th>\n",
       "      <th>selic</th>\n",
       "      <th>selicdef_-1</th>\n",
       "    </tr>\n",
       "  </thead>\n",
       "  <tbody>\n",
       "    <tr>\n",
       "      <th>selic</th>\n",
       "      <td>1.000000</td>\n",
       "      <td>0.951966</td>\n",
       "    </tr>\n",
       "    <tr>\n",
       "      <th>selicdef_-1</th>\n",
       "      <td>0.951966</td>\n",
       "      <td>1.000000</td>\n",
       "    </tr>\n",
       "  </tbody>\n",
       "</table>\n",
       "</div>"
      ],
      "text/plain": [
       "                selic  selicdef_-1\n",
       "selic        1.000000     0.951966\n",
       "selicdef_-1  0.951966     1.000000"
      ]
     },
     "execution_count": 10,
     "metadata": {},
     "output_type": "execute_result"
    }
   ],
   "source": [
    "# Compute the correlation matrix for selic, selicdef_-1, and selicdef_-2\n",
    "correlation_matrix = df[['selic', 'selicdef_-1', 'selicdef_-2']].corr()\n",
    "\n",
    "correlation_matrix"
   ]
  }
 ],
 "metadata": {
  "kernelspec": {
   "display_name": ".venv",
   "language": "python",
   "name": "python3"
  },
  "language_info": {
   "codemirror_mode": {
    "name": "ipython",
    "version": 3
   },
   "file_extension": ".py",
   "mimetype": "text/x-python",
   "name": "python",
   "nbconvert_exporter": "python",
   "pygments_lexer": "ipython3",
   "version": "3.10.12"
  }
 },
 "nbformat": 4,
 "nbformat_minor": 2
}
