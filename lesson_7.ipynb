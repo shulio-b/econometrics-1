{
 "cells": [
  {
   "cell_type": "code",
   "execution_count": 24,
   "metadata": {},
   "outputs": [
    {
     "name": "stdout",
     "output_type": "stream",
     "text": [
      "                            OLS Regression Results                            \n",
      "==============================================================================\n",
      "Dep. Variable:          endividamento   R-squared:                       0.943\n",
      "Model:                            OLS   Adj. R-squared:                  0.941\n",
      "Method:                 Least Squares   F-statistic:                     399.7\n",
      "Date:                Wed, 26 Jun 2024   Prob (F-statistic):           1.56e-87\n",
      "Time:                        20:45:03   Log-Likelihood:                -218.80\n",
      "No. Observations:                 152   AIC:                             451.6\n",
      "Df Residuals:                     145   BIC:                             472.8\n",
      "Df Model:                           6                                         \n",
      "Covariance Type:            nonrobust                                         \n",
      "===============================================================================\n",
      "                  coef    std err          t      P>|t|      [0.025      0.975]\n",
      "-------------------------------------------------------------------------------\n",
      "const          32.0146      0.882     36.302      0.000      30.272      33.758\n",
      "spreadrlpf     -0.2029      0.068     -2.978      0.003      -0.338      -0.068\n",
      "reclivrepf   9.331e-06   3.36e-07     27.791      0.000    8.67e-06    9.99e-06\n",
      "selic           7.1323      1.142      6.248      0.000       4.876       9.389\n",
      "selicdef_-1     4.3809      1.221      3.589      0.000       1.968       6.794\n",
      "selicdef_-2    -2.3140      1.242     -1.863      0.064      -4.769       0.141\n",
      "selicdef_-3    -6.5627      1.160     -5.656      0.000      -8.856      -4.269\n",
      "==============================================================================\n",
      "Omnibus:                        0.984   Durbin-Watson:                   0.368\n",
      "Prob(Omnibus):                  0.611   Jarque-Bera (JB):                1.030\n",
      "Skew:                           0.188   Prob(JB):                        0.598\n",
      "Kurtosis:                       2.856   Cond. No.                     1.96e+07\n",
      "==============================================================================\n",
      "\n",
      "Notes:\n",
      "[1] Standard Errors assume that the covariance matrix of the errors is correctly specified.\n",
      "[2] The condition number is large, 1.96e+07. This might indicate that there are\n",
      "strong multicollinearity or other numerical problems.\n"
     ]
    }
   ],
   "source": [
    "import pandas as pd\n",
    "import statsmodels.api as sm\n",
    "\n",
    "# Load the data from .dta file\n",
    "df = pd.read_stata('credito.dta')\n",
    "\n",
    "df['selicdef_-1'] = df['selic'].shift(1)\n",
    "df['selicdef_-2'] = df['selic'].shift(2)\n",
    "df['selicdef_-3'] = df['selic'].shift(3)\n",
    "df['selicdef_-4'] = df['selic'].shift(4)\n",
    "df['selicdef_-5'] = df['selic'].shift(5)\n",
    "df['selicdef_-6'] = df['selic'].shift(6)\n",
    "df['selicdef_-7'] = df['selic'].shift(7)\n",
    "df['selicdef_-8'] = df['selic'].shift(8)\n",
    "df['selicdef_-9'] = df['selic'].shift(9)\n",
    "df['selicdef_-10'] = df['selic'].shift(10)\n",
    "df['selicdef_-11'] = df['selic'].shift(11)\n",
    "\n",
    "# Define the dependent variable and the independent variables\n",
    "y_subset = ['endividamento']\n",
    "\n",
    "x_subset = ['spreadrlpf', 'reclivrepf', 'selic', 'selicdef_-1', 'selicdef_-2', 'selicdef_-3']\n",
    "#x_subset = ['spreadrlpf', 'reclivrepf', 'selic', 'selicdef_-2', 'selicdef_-3', 'selicdef_-4', 'selicdef_-5', 'selicdef_-6', 'selicdef_-7', 'selicdef_-8', 'selicdef_-9', 'selicdef_-10', 'selicdef_-11']\n",
    "\n",
    "\n",
    "\n",
    "# Create a list of all columns to check for NaNs\n",
    "subset_check = y_subset + x_subset\n",
    "\n",
    "# Drop rows where any of the specified columns have NaN values\n",
    "df_filtered = df.dropna(subset=subset_check)\n",
    "\n",
    "# Redefine y and X with the filtered data\n",
    "y_filtered = df_filtered[y_subset]\n",
    "X_filtered = df_filtered[x_subset]\n",
    "\n",
    "# Add a constant to the predictors for the intercept\n",
    "X_filtered = sm.add_constant(X_filtered)\n",
    "\n",
    "# Fit the linear regression model\n",
    "model = sm.OLS(y_filtered, X_filtered).fit()\n",
    "\n",
    "# Display a summary of the regression results\n",
    "print(model.summary())\n"
   ]
  },
  {
   "cell_type": "code",
   "execution_count": 28,
   "metadata": {},
   "outputs": [
    {
     "data": {
      "text/plain": [
       "48.812"
      ]
     },
     "execution_count": 28,
     "metadata": {},
     "output_type": "execute_result"
    }
   ],
   "source": [
    "top_10 = df['endividamento'].quantile(0.9)"
   ]
  },
  {
   "cell_type": "code",
   "execution_count": 10,
   "metadata": {},
   "outputs": [
    {
     "data": {
      "text/html": [
       "<div>\n",
       "<style scoped>\n",
       "    .dataframe tbody tr th:only-of-type {\n",
       "        vertical-align: middle;\n",
       "    }\n",
       "\n",
       "    .dataframe tbody tr th {\n",
       "        vertical-align: top;\n",
       "    }\n",
       "\n",
       "    .dataframe thead th {\n",
       "        text-align: right;\n",
       "    }\n",
       "</style>\n",
       "<table border=\"1\" class=\"dataframe\">\n",
       "  <thead>\n",
       "    <tr style=\"text-align: right;\">\n",
       "      <th></th>\n",
       "      <th>selic</th>\n",
       "      <th>selicdef_-1</th>\n",
       "    </tr>\n",
       "  </thead>\n",
       "  <tbody>\n",
       "    <tr>\n",
       "      <th>selic</th>\n",
       "      <td>1.000000</td>\n",
       "      <td>0.951966</td>\n",
       "    </tr>\n",
       "    <tr>\n",
       "      <th>selicdef_-1</th>\n",
       "      <td>0.951966</td>\n",
       "      <td>1.000000</td>\n",
       "    </tr>\n",
       "  </tbody>\n",
       "</table>\n",
       "</div>"
      ],
      "text/plain": [
       "                selic  selicdef_-1\n",
       "selic        1.000000     0.951966\n",
       "selicdef_-1  0.951966     1.000000"
      ]
     },
     "execution_count": 10,
     "metadata": {},
     "output_type": "execute_result"
    }
   ],
   "source": [
    "# Compute the correlation matrix for selic, selicdef_-1, and selicdef_-2\n",
    "correlation_matrix = df[['selic', 'selicdef_-1', 'selicdef_-2']].corr()\n",
    "\n",
    "correlation_matrix"
   ]
  }
 ],
 "metadata": {
  "kernelspec": {
   "display_name": ".venv",
   "language": "python",
   "name": "python3"
  },
  "language_info": {
   "codemirror_mode": {
    "name": "ipython",
    "version": 3
   },
   "file_extension": ".py",
   "mimetype": "text/x-python",
   "name": "python",
   "nbconvert_exporter": "python",
   "pygments_lexer": "ipython3",
   "version": "3.10.12"
  }
 },
 "nbformat": 4,
 "nbformat_minor": 2
}
